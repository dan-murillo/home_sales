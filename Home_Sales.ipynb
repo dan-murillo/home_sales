{
  "cells": [
    {
      "cell_type": "code",
      "execution_count": 1,
      "metadata": {
        "colab": {
          "base_uri": "https://localhost:8080/"
        },
        "id": "a_KW73O2e3dw",
        "outputId": "4130a1e0-f776-49db-ac26-c3336cf9f2ad"
      },
      "outputs": [
        {
          "output_type": "stream",
          "name": "stdout",
          "text": [
            "\r0% [Working]\r            \rHit:1 https://cloud.r-project.org/bin/linux/ubuntu focal-cran40/ InRelease\n",
            "\r0% [Connecting to archive.ubuntu.com (185.125.190.36)] [Connecting to security.\r                                                                               \rHit:2 https://developer.download.nvidia.com/compute/cuda/repos/ubuntu2004/x86_64  InRelease\n",
            "\r0% [Waiting for headers] [Connecting to security.ubuntu.com (185.125.190.39)] [\r                                                                               \r0% [Waiting for headers] [Waiting for headers] [Waiting for headers]\r                                                                    \rHit:3 http://ppa.launchpad.net/c2d4u.team/c2d4u4.0+/ubuntu focal InRelease\n",
            "\r0% [Waiting for headers] [Waiting for headers] [Connecting to ppa.launchpad.net\r                                                                               \rHit:4 http://archive.ubuntu.com/ubuntu focal InRelease\n",
            "Hit:5 http://security.ubuntu.com/ubuntu focal-security InRelease\n",
            "Hit:6 http://archive.ubuntu.com/ubuntu focal-updates InRelease\n",
            "Hit:7 http://archive.ubuntu.com/ubuntu focal-backports InRelease\n",
            "Hit:8 http://ppa.launchpad.net/cran/libgit2/ubuntu focal InRelease\n",
            "Hit:9 http://ppa.launchpad.net/deadsnakes/ppa/ubuntu focal InRelease\n",
            "Hit:10 http://ppa.launchpad.net/graphics-drivers/ppa/ubuntu focal InRelease\n",
            "Hit:11 http://ppa.launchpad.net/ubuntugis/ppa/ubuntu focal InRelease\n",
            "Reading package lists... Done\n"
          ]
        }
      ],
      "source": [
        "# Loaded all the dependencies:\n",
        "import os\n",
        "\n",
        "# Found the latest version of Spark:\n",
        "spark_version = 'spark-3.4.0'\n",
        "os.environ['SPARK_VERSION']=spark_version\n",
        "\n",
        "# Installed Spark and Java:\n",
        "!apt-get update\n",
        "!apt-get install openjdk-11-jdk-headless -qq > /dev/null\n",
        "!wget -q http://www.apache.org/dist/spark/$SPARK_VERSION/$SPARK_VERSION-bin-hadoop3.tgz\n",
        "!tar xf $SPARK_VERSION-bin-hadoop3.tgz\n",
        "!pip install -q findspark\n",
        "\n",
        "# Set Environment Variables:\n",
        "os.environ[\"JAVA_HOME\"] = \"/usr/lib/jvm/java-11-openjdk-amd64\"\n",
        "os.environ[\"SPARK_HOME\"] = f\"/content/{spark_version}-bin-hadoop3\"\n",
        "\n",
        "# Started a SparkSession:\n",
        "import findspark\n",
        "findspark.init()"
      ]
    },
    {
      "cell_type": "code",
      "execution_count": 2,
      "metadata": {
        "id": "2XbWNf1Te5fM"
      },
      "outputs": [],
      "source": [
        "# Imported the packages:\n",
        "from pyspark.sql import SparkSession\n",
        "import time\n",
        "\n",
        "# Created a SparkSession:\n",
        "spark = SparkSession.builder.appName(\"SparkSQL\").getOrCreate()"
      ]
    },
    {
      "cell_type": "code",
      "execution_count": 3,
      "metadata": {
        "id": "wOJqxG_RPSwp",
        "colab": {
          "base_uri": "https://localhost:8080/"
        },
        "outputId": "a6caffad-7e1e-445f-f69f-c6316c491ad7"
      },
      "outputs": [
        {
          "output_type": "stream",
          "name": "stdout",
          "text": [
            "+--------------------+----------+----------+------+--------+---------+-----------+--------+------+----------+----+\n",
            "|                  id|      date|date_built| price|bedrooms|bathrooms|sqft_living|sqft_lot|floors|waterfront|view|\n",
            "+--------------------+----------+----------+------+--------+---------+-----------+--------+------+----------+----+\n",
            "|f8a53099-ba1c-47d...|2022-04-08|      2016|936923|       4|        3|       3167|   11733|     2|         1|  76|\n",
            "|7530a2d8-1ae3-451...|2021-06-13|      2013|379628|       2|        2|       2235|   14384|     1|         0|  23|\n",
            "|43de979c-0bf0-4c9...|2019-04-12|      2014|417866|       2|        2|       2127|   10575|     2|         0|   0|\n",
            "|b672c137-b88c-48b...|2019-10-16|      2016|239895|       2|        2|       1631|   11149|     2|         0|   0|\n",
            "|e0726d4d-d595-407...|2022-01-08|      2017|424418|       3|        2|       2249|   13878|     2|         0|   4|\n",
            "|5aa00529-0533-46b...|2019-01-30|      2017|218712|       2|        3|       1965|   14375|     2|         0|   7|\n",
            "|131492a1-72e2-4a8...|2020-02-08|      2017|419199|       2|        3|       2062|    8876|     2|         0|   6|\n",
            "|8d54a71b-c520-44e...|2019-07-21|      2010|323956|       2|        3|       1506|   11816|     1|         0|  25|\n",
            "|e81aacfe-17fe-46b...|2020-06-16|      2016|181925|       3|        3|       2137|   11709|     2|         0|  22|\n",
            "|2ed8d509-7372-46d...|2021-08-06|      2015|258710|       3|        3|       1918|    9666|     1|         0|  25|\n",
            "|f876d86f-3c9f-42b...|2019-02-27|      2011|167864|       3|        3|       2471|   13924|     2|         0|  15|\n",
            "|0a2bd445-8508-4d8...|2021-12-30|      2014|337527|       2|        3|       1926|   12556|     1|         0|  23|\n",
            "|941bad30-eb49-4a7...|2020-05-09|      2015|229896|       3|        3|       2197|    8641|     1|         0|   3|\n",
            "|dd61eb34-6589-4c0...|2021-07-25|      2016|210247|       3|        2|       1672|   11986|     2|         0|  28|\n",
            "|f1e4cef7-d151-439...|2019-02-01|      2011|398667|       2|        3|       2331|   11356|     1|         0|   7|\n",
            "|ea620c7b-c2f7-4c6...|2021-05-31|      2011|437958|       3|        3|       2356|   11052|     1|         0|  26|\n",
            "|f233cb41-6f33-4b0...|2021-07-18|      2016|437375|       4|        3|       1704|   11721|     2|         0|  34|\n",
            "|c797ca12-52cd-4b1...|2019-06-08|      2015|288650|       2|        3|       2100|   10419|     2|         0|   7|\n",
            "|0cfe57f3-28c2-472...|2019-10-04|      2015|308313|       3|        3|       1960|    9453|     2|         0|   2|\n",
            "|4566cd2a-ac6e-435...|2019-07-15|      2016|177541|       3|        3|       2130|   10517|     2|         0|  25|\n",
            "+--------------------+----------+----------+------+--------+---------+-----------+--------+------+----------+----+\n",
            "only showing top 20 rows\n",
            "\n"
          ]
        }
      ],
      "source": [
        "# 1. Read in the AWS S3 bucket into a Spark DataFrame:\n",
        "from pyspark import SparkFiles\n",
        "url = \"https://2u-data-curriculum-team.s3.amazonaws.com/dataviz-classroom/v1.2/22-big-data/home_sales_revised.csv\"\n",
        "spark.sparkContext.addFile(url)\n",
        "df = spark.read.csv(SparkFiles.get('home_sales_revised.csv'), header=True, inferSchema=True, quote='\\'', escape='\\'')\n",
        "df.show()"
      ]
    },
    {
      "cell_type": "code",
      "execution_count": 4,
      "metadata": {
        "id": "RoljcJ7WPpnm"
      },
      "outputs": [],
      "source": [
        "# 2. Created a temporary table/view of the DataFrame in order to run several queries:\n",
        "df.createOrReplaceTempView('home_sales')"
      ]
    },
    {
      "cell_type": "code",
      "execution_count": 5,
      "metadata": {
        "id": "L6fkwOeOmqvq",
        "colab": {
          "base_uri": "https://localhost:8080/"
        },
        "outputId": "b764abaa-4c96-47f9-df5c-9bf735f9fdc3"
      },
      "outputs": [
        {
          "output_type": "stream",
          "name": "stdout",
          "text": [
            "+-------------+----+\n",
            "|Average_Price|Year|\n",
            "+-------------+----+\n",
            "|     300263.7|2019|\n",
            "|    298353.78|2020|\n",
            "|    301819.44|2021|\n",
            "|    296363.88|2022|\n",
            "+-------------+----+\n",
            "\n"
          ]
        }
      ],
      "source": [
        "# 3. Queried the average price for a 4-bedroom house sold in each year and rounded the average price to 2 decimal places; also sorted by\n",
        "# year ascendingly for easy reading:\n",
        "query = (\"\"\"\n",
        "        SELECT ROUND(AVG(price), 2) AS Average_Price, YEAR(date) AS Year\n",
        "        FROM home_sales\n",
        "        WHERE bedrooms==4\n",
        "        GROUP BY YEAR(date)\n",
        "        ORDER BY YEAR(date)\n",
        "        \"\"\")\n",
        "spark.sql(query).show()"
      ]
    },
    {
      "cell_type": "code",
      "execution_count": 6,
      "metadata": {
        "id": "l8p_tUS8h8it",
        "colab": {
          "base_uri": "https://localhost:8080/"
        },
        "outputId": "fb667dca-b033-4d97-c84d-b72ed54f1746"
      },
      "outputs": [
        {
          "output_type": "stream",
          "name": "stdout",
          "text": [
            "+-------------+----------+\n",
            "|Average_Price|Date_Built|\n",
            "+-------------+----------+\n",
            "|    292859.62|      2010|\n",
            "|    291117.47|      2011|\n",
            "|    293683.19|      2012|\n",
            "|    295962.27|      2013|\n",
            "|    290852.27|      2014|\n",
            "|     288770.3|      2015|\n",
            "|    290555.07|      2016|\n",
            "|    292676.79|      2017|\n",
            "+-------------+----------+\n",
            "\n"
          ]
        }
      ],
      "source": [
        "# 4. Queried the average price of a home and the year it was built, but only included those that have 3 bedrooms and 3 bathrooms, and\n",
        "# rounded the average price to 2 decimal places; also sorted by year ascendingly for easy reading:\n",
        "query = (\"\"\"\n",
        "        SELECT ROUND(AVG(price), 2) AS Average_Price, date_built AS Date_Built\n",
        "        FROM home_sales\n",
        "        WHERE bedrooms==3 AND bathrooms==3\n",
        "        GROUP BY date_built\n",
        "        ORDER BY date_built\n",
        "        \"\"\")\n",
        "spark.sql(query).show()"
      ]
    },
    {
      "cell_type": "code",
      "execution_count": 7,
      "metadata": {
        "id": "Y-Eytz64liDU",
        "colab": {
          "base_uri": "https://localhost:8080/"
        },
        "outputId": "66a0b2f7-11e6-4abc-b4b7-b2825e409cb6"
      },
      "outputs": [
        {
          "output_type": "stream",
          "name": "stdout",
          "text": [
            "+-------------+----------+\n",
            "|Average_Price|Date_Built|\n",
            "+-------------+----------+\n",
            "|    285010.22|      2010|\n",
            "|    276553.81|      2011|\n",
            "|    307539.97|      2012|\n",
            "|    303676.79|      2013|\n",
            "|    298264.72|      2014|\n",
            "|    297609.97|      2015|\n",
            "|     293965.1|      2016|\n",
            "|    280317.58|      2017|\n",
            "+-------------+----------+\n",
            "\n"
          ]
        }
      ],
      "source": [
        "# 5. Queried the average price of a home and the year it was built, but only included those that have 3 bedrooms, 3 bathrooms, 2 floors,\n",
        "# and are greater than or equal to 2,000 square feet; rounded the average price to 2 decimal places; also sorted by year ascendingly for\n",
        "# easy reading:\n",
        "query = (\"\"\"\n",
        "        SELECT ROUND(AVG(price), 2) AS Average_Price, date_built AS Date_Built\n",
        "        FROM home_sales\n",
        "        WHERE bedrooms==3 AND bathrooms==3 AND floors==2 AND sqft_living>=2000\n",
        "        GROUP BY date_built\n",
        "        ORDER BY date_built\n",
        "        \"\"\")\n",
        "spark.sql(query).show()"
      ]
    },
    {
      "cell_type": "code",
      "execution_count": 8,
      "metadata": {
        "colab": {
          "base_uri": "https://localhost:8080/"
        },
        "id": "GUrfgOX1pCRd",
        "outputId": "f4c30587-ca8f-443a-c64c-52a6a6b9d85b"
      },
      "outputs": [
        {
          "output_type": "stream",
          "name": "stdout",
          "text": [
            "+-------------+----+\n",
            "|Average_Price|View|\n",
            "+-------------+----+\n",
            "|    399856.95|  31|\n",
            "|   1056336.74|  85|\n",
            "|    736679.93|  65|\n",
            "|     755214.8|  53|\n",
            "|   1080649.37|  78|\n",
            "|    401419.75|  34|\n",
            "|   1053472.79|  81|\n",
            "|    402124.62|  28|\n",
            "|   1058802.78|  76|\n",
            "|    401506.97|  26|\n",
            "|    399537.66|  27|\n",
            "|    400598.05|  44|\n",
            "|    401501.32|  12|\n",
            "|   1137372.73|  91|\n",
            "|    402022.68|  22|\n",
            "|   1026006.06|  93|\n",
            "|     398447.5|  47|\n",
            "|    401044.25|   1|\n",
            "|    733780.26|  52|\n",
            "|    398917.98|  13|\n",
            "+-------------+----+\n",
            "only showing top 20 rows\n",
            "\n",
            "--- 0.5615453720092773 seconds ---\n"
          ]
        }
      ],
      "source": [
        "# 6. Queried the 'view' rating to get the average price of a home, rounded it to 2 decimal places, and only included the homes, which\n",
        "# are greater than or equal to $350,000; also determined the run time for this query:\n",
        "start_time = time.time()\n",
        "query = (\"\"\"SELECT ROUND(AVG(price), 2) AS Average_Price, view as View\n",
        "            FROM home_sales\n",
        "            WHERE price>=350000\n",
        "            GROUP BY view\n",
        "         \"\"\")\n",
        "spark.sql(query).show()\n",
        "print(\"--- %s seconds ---\" % (time.time() - start_time))"
      ]
    },
    {
      "cell_type": "code",
      "execution_count": 9,
      "metadata": {
        "id": "KAhk3ZD2tFy8",
        "colab": {
          "base_uri": "https://localhost:8080/"
        },
        "outputId": "18449565-56fa-4152-8d2b-e8af00f411c6"
      },
      "outputs": [
        {
          "output_type": "execute_result",
          "data": {
            "text/plain": [
              "DataFrame[]"
            ]
          },
          "metadata": {},
          "execution_count": 9
        }
      ],
      "source": [
        "# 7. Cached the temporary table home_sales:\n",
        "spark.sql('cache table home_sales')"
      ]
    },
    {
      "cell_type": "code",
      "execution_count": 10,
      "metadata": {
        "id": "4opVhbvxtL-i",
        "colab": {
          "base_uri": "https://localhost:8080/"
        },
        "outputId": "0451af40-ad29-451f-826e-1f815b42e536"
      },
      "outputs": [
        {
          "output_type": "execute_result",
          "data": {
            "text/plain": [
              "True"
            ]
          },
          "metadata": {},
          "execution_count": 10
        }
      ],
      "source": [
        "# 8. Checked if the table was cached:\n",
        "spark.catalog.isCached('home_sales')"
      ]
    },
    {
      "cell_type": "code",
      "execution_count": 11,
      "metadata": {
        "colab": {
          "base_uri": "https://localhost:8080/"
        },
        "id": "5GnL46lwTSEk",
        "outputId": "ff161e96-e797-4b87-de4e-56b0cd8fa8ce"
      },
      "outputs": [
        {
          "output_type": "stream",
          "name": "stdout",
          "text": [
            "+-------------+----+\n",
            "|Average_Price|View|\n",
            "+-------------+----+\n",
            "|    399856.95|  31|\n",
            "|   1056336.74|  85|\n",
            "|    736679.93|  65|\n",
            "|     755214.8|  53|\n",
            "|   1080649.37|  78|\n",
            "|    401419.75|  34|\n",
            "|   1053472.79|  81|\n",
            "|    402124.62|  28|\n",
            "|   1058802.78|  76|\n",
            "|    401506.97|  26|\n",
            "|    399537.66|  27|\n",
            "|    400598.05|  44|\n",
            "|    401501.32|  12|\n",
            "|   1137372.73|  91|\n",
            "|    402022.68|  22|\n",
            "|   1026006.06|  93|\n",
            "|     398447.5|  47|\n",
            "|    401044.25|   1|\n",
            "|    733780.26|  52|\n",
            "|    398917.98|  13|\n",
            "+-------------+----+\n",
            "only showing top 20 rows\n",
            "\n",
            "--- 0.3539855480194092 seconds ---\n"
          ]
        }
      ],
      "source": [
        "# 9. By using the cached data, ran the query that filtered out the 'view' ratings with the average price greater than or equal to\n",
        "# $350,000; determined the runtime, and compared it to the uncached runtime:\n",
        "start_time = time.time()\n",
        "query = (\"\"\"SELECT ROUND(AVG(price), 2) AS Average_Price, view as View\n",
        "            FROM home_sales\n",
        "            WHERE price>=350000\n",
        "            GROUP BY view\n",
        "         \"\"\")\n",
        "spark.sql(query).show()\n",
        "print(\"--- %s seconds ---\" % (time.time() - start_time))"
      ]
    },
    {
      "cell_type": "code",
      "execution_count": 12,
      "metadata": {
        "id": "Qm12WN9isHBR"
      },
      "outputs": [],
      "source": [
        "# 10. Partitioned by the 'date_built' field on the formatted parquet 'home sales' data:\n",
        "df.write.partitionBy('date_built').mode('overwrite').parquet('home_sales_partitioned')"
      ]
    },
    {
      "cell_type": "code",
      "execution_count": 13,
      "metadata": {
        "id": "AZ7BgY61sRqY"
      },
      "outputs": [],
      "source": [
        "# 11. Read the parquet formatted data:\n",
        "df_p = spark.read.parquet('home_sales_partitioned')"
      ]
    },
    {
      "cell_type": "code",
      "execution_count": 14,
      "metadata": {
        "id": "J6MJkHfvVcvh"
      },
      "outputs": [],
      "source": [
        "# 12. Created a temporary table/view for the parquet data:\n",
        "df_p.createOrReplaceTempView('home_sales_p')"
      ]
    },
    {
      "cell_type": "code",
      "execution_count": 15,
      "metadata": {
        "colab": {
          "base_uri": "https://localhost:8080/"
        },
        "id": "G_Vhb52rU1Sn",
        "outputId": "2bc2b8e5-6ce7-446e-c9c0-0f2101eac445"
      },
      "outputs": [
        {
          "output_type": "stream",
          "name": "stdout",
          "text": [
            "+-------------+----+\n",
            "|Average_Price|View|\n",
            "+-------------+----+\n",
            "|    399856.95|  31|\n",
            "|   1056336.74|  85|\n",
            "|    736679.93|  65|\n",
            "|     755214.8|  53|\n",
            "|   1080649.37|  78|\n",
            "|    401419.75|  34|\n",
            "|   1053472.79|  81|\n",
            "|    402124.62|  28|\n",
            "|   1058802.78|  76|\n",
            "|    401506.97|  26|\n",
            "|    399537.66|  27|\n",
            "|    400598.05|  44|\n",
            "|    401501.32|  12|\n",
            "|   1137372.73|  91|\n",
            "|    402022.68|  22|\n",
            "|   1026006.06|  93|\n",
            "|     398447.5|  47|\n",
            "|    401044.25|   1|\n",
            "|    733780.26|  52|\n",
            "|    398917.98|  13|\n",
            "+-------------+----+\n",
            "only showing top 20 rows\n",
            "\n",
            "--- 0.9575011730194092 seconds ---\n"
          ]
        }
      ],
      "source": [
        "# 13. Ran the query that filtered out the 'view' ratings with the average price of greater than or equal to $350,000 with the parquet\n",
        "# DataFrame; determined the runtime, and compared it to the cached version:\n",
        "start_time = time.time()\n",
        "query = (\"\"\"SELECT ROUND(AVG(price), 2) AS Average_Price, view as View\n",
        "            FROM home_sales_p\n",
        "            WHERE price>=350000\n",
        "            GROUP BY view\n",
        "         \"\"\")\n",
        "spark.sql(query).show()\n",
        "print(\"--- %s seconds ---\" % (time.time() - start_time))"
      ]
    },
    {
      "cell_type": "code",
      "execution_count": 16,
      "metadata": {
        "id": "hjjYzQGjtbq8",
        "colab": {
          "base_uri": "https://localhost:8080/"
        },
        "outputId": "4c87aac0-a2d8-4962-9ada-513110c6809b"
      },
      "outputs": [
        {
          "output_type": "execute_result",
          "data": {
            "text/plain": [
              "DataFrame[]"
            ]
          },
          "metadata": {},
          "execution_count": 16
        }
      ],
      "source": [
        "# 14. Uncached the 'home_sales' temporary table:\n",
        "spark.sql('uncache table home_sales')"
      ]
    },
    {
      "cell_type": "code",
      "execution_count": 17,
      "metadata": {
        "id": "Sy9NBvO7tlmm",
        "colab": {
          "base_uri": "https://localhost:8080/"
        },
        "outputId": "240c43be-e474-4375-ddbc-51c860870960"
      },
      "outputs": [
        {
          "output_type": "execute_result",
          "data": {
            "text/plain": [
              "False"
            ]
          },
          "metadata": {},
          "execution_count": 17
        }
      ],
      "source": [
        "# 15. Checked if the 'home_sales' was no longer cached:\n",
        "spark.catalog.isCached('home_sales')"
      ]
    },
    {
      "cell_type": "code",
      "execution_count": 17,
      "metadata": {
        "id": "Si-BNruRUGK3"
      },
      "outputs": [],
      "source": []
    }
  ],
  "metadata": {
    "colab": {
      "provenance": []
    },
    "gpuClass": "standard",
    "kernelspec": {
      "display_name": "Python 3 (ipykernel)",
      "language": "python",
      "name": "python3"
    },
    "language_info": {
      "codemirror_mode": {
        "name": "ipython",
        "version": 3
      },
      "file_extension": ".py",
      "mimetype": "text/x-python",
      "name": "python",
      "nbconvert_exporter": "python",
      "pygments_lexer": "ipython3",
      "version": "3.10.4"
    },
    "nteract": {
      "version": "0.28.0"
    }
  },
  "nbformat": 4,
  "nbformat_minor": 0
}